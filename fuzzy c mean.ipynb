{
 "cells": [
  {
   "cell_type": "code",
   "execution_count": null,
   "id": "cd66d4e2",
   "metadata": {},
   "outputs": [],
   "source": [
    "import cv2\n",
    "import numpy as np\n",
    "\n",
    "# Load the image\n",
    "img = cv2.imread('XRAY_T09_E04.bmp')\n",
    "\n",
    "# Convert the image to grayscale\n",
    "gray = cv2.cvtColor(img, cv2.COLOR_BGR2GRAY)\n",
    "\n",
    "# Apply FCM segmentation with 3 clusters\n",
    "num_clusters = 3\n",
    "max_iterations = 200\n",
    "epsilon = 0.01\n",
    "criteria = (cv2.TERM_CRITERIA_EPS + cv2.TERM_CRITERIA_MAX_ITER, max_iterations, epsilon)\n",
    "flags = cv2.KMEANS_RANDOM_CENTERS\n",
    "compactness, labels, centers = cv2.kmeans(gray.reshape(-1, 1).astype(np.float32), num_clusters, None, criteria, 10, flags)\n",
    "\n",
    "# Reshape the labels to the shape of the input image\n",
    "labels = labels.reshape(img.shape[:2])\n",
    "\n",
    "# Create a mask image for each cluster\n",
    "masks = [labels == i for i in range(num_clusters)]\n",
    "\n",
    "# Apply a different color to each cluster\n",
    "colors = [(255, 0, 0), (0, 255, 0), (0, 0, 255)]\n",
    "colorful_masks = [cv2.cvtColor((masks[i] * 255).astype(np.uint8), cv2.COLOR_GRAY2BGR) * colors[i] for i in range(num_clusters)]\n",
    "\n",
    "# Combine the masks into a single image\n",
    "result = np.zeros_like(img)\n",
    "for colorful_mask in colorful_masks:\n",
    "    result =( result+ colorful_mask).astype(np.uint8)\n",
    "\n",
    "# Display the result\n",
    "cv2.imshow('Result', result)\n",
    "cv2.waitKey(0)\n",
    "cv2.destroyAllWindows()\n"
   ]
  },
  {
   "cell_type": "code",
   "execution_count": null,
   "id": "13f436cc",
   "metadata": {},
   "outputs": [],
   "source": []
  }
 ],
 "metadata": {
  "kernelspec": {
   "display_name": "Python 3 (ipykernel)",
   "language": "python",
   "name": "python3"
  },
  "language_info": {
   "codemirror_mode": {
    "name": "ipython",
    "version": 3
   },
   "file_extension": ".py",
   "mimetype": "text/x-python",
   "name": "python",
   "nbconvert_exporter": "python",
   "pygments_lexer": "ipython3",
   "version": "3.7.16"
  }
 },
 "nbformat": 4,
 "nbformat_minor": 5
}
