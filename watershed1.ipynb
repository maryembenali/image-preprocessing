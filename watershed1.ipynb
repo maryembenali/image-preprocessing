{
 "cells": [
  {
   "cell_type": "code",
   "execution_count": null,
   "id": "91b96692",
   "metadata": {},
   "outputs": [],
   "source": [
    "import cv2\n",
    "import numpy as np\n",
    "\n",
    "# Load the input image\n",
    "img = cv2.imread('XRAY_T09_E04.bmp')\n",
    "\n",
    "# Convert the image to grayscale\n",
    "gray = cv2.cvtColor(img, cv2.COLOR_BGR2GRAY)\n",
    "\n",
    "# Apply a Gaussian blur to reduce noise\n",
    "gray = cv2.GaussianBlur(gray, (5, 5), 0)\n",
    "\n",
    "# Compute the gradient magnitude of the image\n",
    "grad = cv2.morphologyEx(gray, cv2.MORPH_GRADIENT, np.ones((3, 3), np.uint8))\n",
    "\n",
    "# Threshold the gradient image to obtain a binary image\n",
    "_, thresh = cv2.threshold(grad, 0, 255, cv2.THRESH_BINARY | cv2.THRESH_OTSU)\n",
    "\n",
    "# Compute the distance transform of the binary image\n",
    "dist = cv2.distanceTransform(thresh, cv2.DIST_L2, 5)\n",
    "\n",
    "# Find the local minima of the distance map\n",
    "local_minima = cv2.connectedComponentsWithStats((dist == 0).astype(np.uint8))\n",
    "\n",
    "# Create an array to store the labels of each pixel\n",
    "labels = np.zeros_like(gray, dtype=np.int32)\n",
    "\n",
    "# Label each pixel with the label of the closest local minimum\n",
    "for label in range(1, local_minima[0]):\n",
    "    labels[local_minima[1] == label] = label\n",
    "\n",
    "# Apply the watershed algorithm to the labeled image\n",
    "markers = cv2.watershed(img, labels)\n",
    "\n",
    "# Display the result\n",
    "result = img.copy()\n",
    "result[markers == -1] = [255, 0, 0]\n",
    "cv2.imshow('Result', result)\n",
    "cv2.waitKey(0)\n",
    "cv2.destroyAllWindows()\n"
   ]
  },
  {
   "cell_type": "code",
   "execution_count": null,
   "id": "0b8171ae",
   "metadata": {},
   "outputs": [],
   "source": []
  }
 ],
 "metadata": {
  "kernelspec": {
   "display_name": "Python 3 (ipykernel)",
   "language": "python",
   "name": "python3"
  },
  "language_info": {
   "codemirror_mode": {
    "name": "ipython",
    "version": 3
   },
   "file_extension": ".py",
   "mimetype": "text/x-python",
   "name": "python",
   "nbconvert_exporter": "python",
   "pygments_lexer": "ipython3",
   "version": "3.7.16"
  }
 },
 "nbformat": 4,
 "nbformat_minor": 5
}
