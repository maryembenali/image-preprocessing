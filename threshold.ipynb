{
 "cells": [
  {
   "cell_type": "code",
   "execution_count": null,
   "id": "bdc5713a",
   "metadata": {},
   "outputs": [],
   "source": [
    "# global thresholding\n",
    "import cv2\n",
    "\n",
    "# Load image in grayscale\n",
    "img = cv2.imread('XRAY_T09_E04.bmp', 0)\n",
    "\n",
    "# Apply global thresholding with a threshold value of 127\n",
    "thresh_value = 50\n",
    "max_value = 255\n",
    "ret, thresh = cv2.threshold(img, thresh_value, max_value, cv2.THRESH_BINARY)\n",
    "\n",
    "# Display the result\n",
    "cv2.imshow('Global Thresholding', thresh)\n",
    "cv2.waitKey(0)\n"
   ]
  },
  {
   "cell_type": "code",
   "execution_count": null,
   "id": "1315679b",
   "metadata": {},
   "outputs": [],
   "source": [
    "# adaptative tresholding --ADAPTIVE_THRESH_MEAN_C\n",
    "import cv2\n",
    "\n",
    "# Load image in grayscale\n",
    "img = cv2.imread('XRAY_T09_E06.bmp', 0)\n",
    "\n",
    "# Apply adaptive thresholding with a block size of 11 and a constant value of 2\n",
    "block_size = 7\n",
    "\n",
    "constant = 2  # gets better when its a zero , try it !\n",
    "\n",
    "thresh = cv2.adaptiveThreshold(img, 255, cv2.ADAPTIVE_THRESH_MEAN_C, cv2.THRESH_BINARY, block_size, constant)\n",
    "\n",
    "# Display the result\n",
    "cv2.imshow('Adaptive Thresholding', thresh)\n",
    "cv2.waitKey(0)"
   ]
  },
  {
   "cell_type": "code",
   "execution_count": null,
   "id": "d9d2fc02",
   "metadata": {},
   "outputs": [],
   "source": [
    "# adaptative tresholding--ADAPTIVE_THRESH_GAUSSIAN_C\n",
    "import cv2\n",
    "\n",
    "# Load image in grayscale\n",
    "img = cv2.imread('XRAY_T09_E04.bmp', 0)\n",
    "\n",
    "# Apply adaptive thresholding with a block size of 11 and a constant value of 2\n",
    "block_size = 11\n",
    "constant = 2\n",
    "thresh = cv2.adaptiveThreshold(img, 255, cv2.ADAPTIVE_THRESH_GAUSSIAN_C, cv2.THRESH_BINARY, block_size, constant)\n",
    "\n",
    "# Display the result\n",
    "cv2.imshow('Adaptive Thresholding', thresh)\n",
    "cv2.waitKey(0)"
   ]
  },
  {
   "cell_type": "code",
   "execution_count": null,
   "id": "9ed9f55c",
   "metadata": {},
   "outputs": [],
   "source": [
    "#otsu threshold\n",
    "import cv2\n",
    "\n",
    "# Load image in grayscale\n",
    "img = cv2.imread('XRAY_T09_E04.bmp', 0)\n",
    "\n",
    "# Apply Otsu's thresholding\n",
    "max_value = 255\n",
    "ret, thresh = cv2.threshold(img, 0, max_value, cv2.THRESH_BINARY+cv2.THRESH_OTSU)\n",
    "\n",
    "# Display the result\n",
    "cv2.imshow('Otsu Thresholding', thresh)\n",
    "cv2.waitKey(0)\n"
   ]
  },
  {
   "cell_type": "code",
   "execution_count": null,
   "id": "1b2c5f21",
   "metadata": {},
   "outputs": [],
   "source": [
    "\n"
   ]
  },
  {
   "cell_type": "code",
   "execution_count": null,
   "id": "4ac9863b",
   "metadata": {},
   "outputs": [],
   "source": []
  },
  {
   "cell_type": "code",
   "execution_count": null,
   "id": "8742caac",
   "metadata": {},
   "outputs": [],
   "source": []
  }
 ],
 "metadata": {
  "kernelspec": {
   "display_name": "Python 3 (ipykernel)",
   "language": "python",
   "name": "python3"
  },
  "language_info": {
   "codemirror_mode": {
    "name": "ipython",
    "version": 3
   },
   "file_extension": ".py",
   "mimetype": "text/x-python",
   "name": "python",
   "nbconvert_exporter": "python",
   "pygments_lexer": "ipython3",
   "version": "3.7.16"
  }
 },
 "nbformat": 4,
 "nbformat_minor": 5
}
