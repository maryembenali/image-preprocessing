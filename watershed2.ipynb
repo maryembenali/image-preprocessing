{
 "cells": [
  {
   "cell_type": "code",
   "execution_count": null,
   "id": "3c4aff26",
   "metadata": {},
   "outputs": [
    {
     "name": "stderr",
     "output_type": "stream",
     "text": [
      "C:\\Users\\asus\\anaconda3\\envs\\envtensorflow\\lib\\site-packages\\ipykernel_launcher.py:35: FutureWarning: indices argument is deprecated and will be removed in version 0.20. To avoid this warning, please do not use the indices argument. Please see peak_local_max documentation for more details.\n"
     ]
    },
    {
     "name": "stdout",
     "output_type": "stream",
     "text": [
      "[INFO] 2 unique segments found\n"
     ]
    }
   ],
   "source": [
    "# import the necessary packages\n",
    "from skimage.feature import peak_local_max\n",
    "from skimage.segmentation import watershed\n",
    "from scipy import ndimage\n",
    "import numpy as np\n",
    "import argparse\n",
    "import imutils\n",
    "import cv2\n",
    "from PIL import Image\n",
    "\n",
    "# construct the argument parse and parse the arguments\n",
    "#ap = argparse.ArgumentParser()\n",
    "#ap.add_argument(\"-i\", \"--image\", required=True,\n",
    "#\thelp=\"path to input image\")\n",
    "#args = vars(ap.parse_args())\n",
    "\n",
    "# load the image and perform pyramid mean shift filtering\n",
    "# to aid the thresholding step\n",
    "\n",
    "#image = Image.open('XRAY_T10_C01.BMP')\n",
    "image = cv2.imread('XRAY_T09_E06.bmp')\n",
    "shifted = cv2.pyrMeanShiftFiltering(image, 21, 51)\n",
    "cv2.imshow(\"Input\", image)\n",
    "# convert the mean shift image to grayscale, then apply\n",
    "# Otsu's thresholding\n",
    "gray = cv2.cvtColor(shifted, cv2.COLOR_BGR2GRAY)\n",
    "thresh = cv2.threshold(gray, 0, 255,\n",
    "\tcv2.THRESH_BINARY | cv2.THRESH_OTSU)[1]\n",
    "cv2.imshow(\"Thresh\", thresh)\n",
    "# compute the exact Euclidean distance from every binary\n",
    "# pixel to the nearest zero pixel, then find peaks in this\n",
    "# distance map\n",
    "D = ndimage.distance_transform_edt(thresh)\n",
    "localMax = peak_local_max(D, indices=False, min_distance=20,\n",
    "\tlabels=thresh)\n",
    "# perform a connected component analysis on the local peaks,\n",
    "# using 8-connectivity, then appy the Watershed algorithm\n",
    "markers = ndimage.label(localMax, structure=np.ones((3, 3)))[0]\n",
    "labels = watershed(-D, markers, mask=thresh)\n",
    "print(\"[INFO] {} unique segments found\".format(len(np.unique(labels)) - 1))\n",
    "# loop over the unique labels returned by the Watershed\n",
    "# algorithm\n",
    "for label in np.unique(labels):\n",
    "\t# if the label is zero, we are examining the 'background'\n",
    "\t# so simply ignore it\n",
    "\tif label == 0:\n",
    "\t\tcontinue\n",
    "\t# otherwise, allocate memory for the label region and draw\n",
    "\t# it on the mask\n",
    "\tmask = np.zeros(gray.shape, dtype=\"uint8\")\n",
    "\tmask[labels == label] = 255\n",
    "\t# detect contours in the mask and grab the largest one\n",
    "\tcnts = cv2.findContours(mask.copy(), cv2.RETR_EXTERNAL,\n",
    "\t\tcv2.CHAIN_APPROX_SIMPLE)\n",
    "\tcnts = imutils.grab_contours(cnts)\n",
    "\tc = max(cnts, key=cv2.contourArea)\n",
    "\t# draw a circle enclosing the object\n",
    "\t((x, y), r) = cv2.minEnclosingCircle(c)\n",
    "\tcv2.circle(image, (int(x), int(y)), int(r), (0, 255, 0), 2)\n",
    "\tcv2.putText(image, \"#{}\".format(label), (int(x) - 10, int(y)),\n",
    "\t\tcv2.FONT_HERSHEY_SIMPLEX, 0.6, (0, 0, 255), 2)\n",
    "# show the output image\n",
    "cv2.imshow(\"Output\", image)\n",
    "cv2.waitKey(0)"
   ]
  },
  {
   "cell_type": "code",
   "execution_count": null,
   "id": "c56edd6e",
   "metadata": {},
   "outputs": [],
   "source": [
    "#https://pyimagesearch.com/2015/11/02/watershed-opencv/"
   ]
  }
 ],
 "metadata": {
  "kernelspec": {
   "display_name": "Python 3 (ipykernel)",
   "language": "python",
   "name": "python3"
  },
  "language_info": {
   "codemirror_mode": {
    "name": "ipython",
    "version": 3
   },
   "file_extension": ".py",
   "mimetype": "text/x-python",
   "name": "python",
   "nbconvert_exporter": "python",
   "pygments_lexer": "ipython3",
   "version": "3.7.16"
  }
 },
 "nbformat": 4,
 "nbformat_minor": 5
}
